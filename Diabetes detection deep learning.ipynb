{
 "cells": [
  {
   "cell_type": "code",
   "execution_count": 1,
   "metadata": {},
   "outputs": [],
   "source": [
    "import pandas as pd\n",
    "\n",
    "df = pd.read_csv('diabetes.csv')"
   ]
  },
  {
   "cell_type": "code",
   "execution_count": 2,
   "metadata": {},
   "outputs": [
    {
     "data": {
      "text/html": [
       "<div>\n",
       "<style scoped>\n",
       "    .dataframe tbody tr th:only-of-type {\n",
       "        vertical-align: middle;\n",
       "    }\n",
       "\n",
       "    .dataframe tbody tr th {\n",
       "        vertical-align: top;\n",
       "    }\n",
       "\n",
       "    .dataframe thead th {\n",
       "        text-align: right;\n",
       "    }\n",
       "</style>\n",
       "<table border=\"1\" class=\"dataframe\">\n",
       "  <thead>\n",
       "    <tr style=\"text-align: right;\">\n",
       "      <th></th>\n",
       "      <th>Pregnancies</th>\n",
       "      <th>Glucose</th>\n",
       "      <th>BloodPressure</th>\n",
       "      <th>SkinThickness</th>\n",
       "      <th>Insulin</th>\n",
       "      <th>BMI</th>\n",
       "      <th>DiabetesPedigreeFunction</th>\n",
       "      <th>Age</th>\n",
       "      <th>Outcome</th>\n",
       "    </tr>\n",
       "  </thead>\n",
       "  <tbody>\n",
       "    <tr>\n",
       "      <th>0</th>\n",
       "      <td>6</td>\n",
       "      <td>148</td>\n",
       "      <td>72</td>\n",
       "      <td>35</td>\n",
       "      <td>0</td>\n",
       "      <td>33.6</td>\n",
       "      <td>0.627</td>\n",
       "      <td>50</td>\n",
       "      <td>1</td>\n",
       "    </tr>\n",
       "    <tr>\n",
       "      <th>1</th>\n",
       "      <td>1</td>\n",
       "      <td>85</td>\n",
       "      <td>66</td>\n",
       "      <td>29</td>\n",
       "      <td>0</td>\n",
       "      <td>26.6</td>\n",
       "      <td>0.351</td>\n",
       "      <td>31</td>\n",
       "      <td>0</td>\n",
       "    </tr>\n",
       "    <tr>\n",
       "      <th>2</th>\n",
       "      <td>8</td>\n",
       "      <td>183</td>\n",
       "      <td>64</td>\n",
       "      <td>0</td>\n",
       "      <td>0</td>\n",
       "      <td>23.3</td>\n",
       "      <td>0.672</td>\n",
       "      <td>32</td>\n",
       "      <td>1</td>\n",
       "    </tr>\n",
       "    <tr>\n",
       "      <th>3</th>\n",
       "      <td>1</td>\n",
       "      <td>89</td>\n",
       "      <td>66</td>\n",
       "      <td>23</td>\n",
       "      <td>94</td>\n",
       "      <td>28.1</td>\n",
       "      <td>0.167</td>\n",
       "      <td>21</td>\n",
       "      <td>0</td>\n",
       "    </tr>\n",
       "    <tr>\n",
       "      <th>4</th>\n",
       "      <td>0</td>\n",
       "      <td>137</td>\n",
       "      <td>40</td>\n",
       "      <td>35</td>\n",
       "      <td>168</td>\n",
       "      <td>43.1</td>\n",
       "      <td>2.288</td>\n",
       "      <td>33</td>\n",
       "      <td>1</td>\n",
       "    </tr>\n",
       "    <tr>\n",
       "      <th>5</th>\n",
       "      <td>5</td>\n",
       "      <td>116</td>\n",
       "      <td>74</td>\n",
       "      <td>0</td>\n",
       "      <td>0</td>\n",
       "      <td>25.6</td>\n",
       "      <td>0.201</td>\n",
       "      <td>30</td>\n",
       "      <td>0</td>\n",
       "    </tr>\n",
       "    <tr>\n",
       "      <th>6</th>\n",
       "      <td>3</td>\n",
       "      <td>78</td>\n",
       "      <td>50</td>\n",
       "      <td>32</td>\n",
       "      <td>88</td>\n",
       "      <td>31.0</td>\n",
       "      <td>0.248</td>\n",
       "      <td>26</td>\n",
       "      <td>1</td>\n",
       "    </tr>\n",
       "    <tr>\n",
       "      <th>7</th>\n",
       "      <td>10</td>\n",
       "      <td>115</td>\n",
       "      <td>0</td>\n",
       "      <td>0</td>\n",
       "      <td>0</td>\n",
       "      <td>35.3</td>\n",
       "      <td>0.134</td>\n",
       "      <td>29</td>\n",
       "      <td>0</td>\n",
       "    </tr>\n",
       "    <tr>\n",
       "      <th>8</th>\n",
       "      <td>2</td>\n",
       "      <td>197</td>\n",
       "      <td>70</td>\n",
       "      <td>45</td>\n",
       "      <td>543</td>\n",
       "      <td>30.5</td>\n",
       "      <td>0.158</td>\n",
       "      <td>53</td>\n",
       "      <td>1</td>\n",
       "    </tr>\n",
       "    <tr>\n",
       "      <th>9</th>\n",
       "      <td>8</td>\n",
       "      <td>125</td>\n",
       "      <td>96</td>\n",
       "      <td>0</td>\n",
       "      <td>0</td>\n",
       "      <td>0.0</td>\n",
       "      <td>0.232</td>\n",
       "      <td>54</td>\n",
       "      <td>1</td>\n",
       "    </tr>\n",
       "  </tbody>\n",
       "</table>\n",
       "</div>"
      ],
      "text/plain": [
       "   Pregnancies  Glucose  BloodPressure  SkinThickness  Insulin   BMI  \\\n",
       "0            6      148             72             35        0  33.6   \n",
       "1            1       85             66             29        0  26.6   \n",
       "2            8      183             64              0        0  23.3   \n",
       "3            1       89             66             23       94  28.1   \n",
       "4            0      137             40             35      168  43.1   \n",
       "5            5      116             74              0        0  25.6   \n",
       "6            3       78             50             32       88  31.0   \n",
       "7           10      115              0              0        0  35.3   \n",
       "8            2      197             70             45      543  30.5   \n",
       "9            8      125             96              0        0   0.0   \n",
       "\n",
       "   DiabetesPedigreeFunction  Age  Outcome  \n",
       "0                     0.627   50        1  \n",
       "1                     0.351   31        0  \n",
       "2                     0.672   32        1  \n",
       "3                     0.167   21        0  \n",
       "4                     2.288   33        1  \n",
       "5                     0.201   30        0  \n",
       "6                     0.248   26        1  \n",
       "7                     0.134   29        0  \n",
       "8                     0.158   53        1  \n",
       "9                     0.232   54        1  "
      ]
     },
     "execution_count": 2,
     "metadata": {},
     "output_type": "execute_result"
    }
   ],
   "source": [
    "df.head(10)"
   ]
  },
  {
   "cell_type": "code",
   "execution_count": 3,
   "metadata": {},
   "outputs": [
    {
     "data": {
      "image/png": "[encoded data removed]",
      "text/plain": [
       "<Figure size 432x288 with 9 Axes>"
      ]
     },
     "metadata": {
      "needs_background": "light"
     },
     "output_type": "display_data"
    },
    {
     "data": {
      "text/plain": [
       "<Figure size 4320x4320 with 0 Axes>"
      ]
     },
     "metadata": {},
     "output_type": "display_data"
    }
   ],
   "source": [
    "from matplotlib import pyplot as plt\n",
    "\n",
    "df.hist()\n",
    "plt.figure(figsize=(60, 60))\n",
    "plt.show()"
   ]
  },
  {
   "cell_type": "code",
   "execution_count": 4,
   "metadata": {},
   "outputs": [
    {
     "data": {
      "image/png": "[encoded data removed]",
      "text/plain": [
       "<Figure size 1080x1080 with 9 Axes>"
      ]
     },
     "metadata": {
      "needs_background": "light"
     },
     "output_type": "display_data"
    },
    {
     "data": {
      "image/png": "[encoded data removed]",
      "text/plain": [
       "<Figure size 432x288 with 2 Axes>"
      ]
     },
     "metadata": {
      "needs_background": "light"
     },
     "output_type": "display_data"
    },
    {
     "data": {
      "image/png": "[encoded data removed]",
      "text/plain": [
       "<Figure size 432x288 with 2 Axes>"
      ]
     },
     "metadata": {
      "needs_background": "light"
     },
     "output_type": "display_data"
    },
    {
     "data": {
      "image/png": "[encoded data removed]",
      "text/plain": [
       "<Figure size 432x288 with 2 Axes>"
      ]
     },
     "metadata": {
      "needs_background": "light"
     },
     "output_type": "display_data"
    },
    {
     "data": {
      "image/png": "[encoded data removed]",
      "text/plain": [
       "<Figure size 432x288 with 2 Axes>"
      ]
     },
     "metadata": {
      "needs_background": "light"
     },
     "output_type": "display_data"
    },
    {
     "data": {
      "image/png": "[encoded data removed]",
      "text/plain": [
       "<Figure size 432x288 with 2 Axes>"
      ]
     },
     "metadata": {
      "needs_background": "light"
     },
     "output_type": "display_data"
    },
    {
     "data": {
      "image/png": "[encoded data removed]",
      "text/plain": [
       "<Figure size 432x288 with 2 Axes>"
      ]
     },
     "metadata": {
      "needs_background": "light"
     },
     "output_type": "display_data"
    },
    {
     "data": {
      "image/png": "[encoded data removed]",
      "text/plain": [
       "<Figure size 432x288 with 2 Axes>"
      ]
     },
     "metadata": {
      "needs_background": "light"
     },
     "output_type": "display_data"
    },
    {
     "name": "stderr",
     "output_type": "stream",
     "text": [
      "/home/ykamel/anaconda3/lib/python3.8/site-packages/seaborn/distributions.py:283: UserWarning: Data must have variance to compute a kernel density estimate.\n",
      "  warnings.warn(msg, UserWarning)\n",
      "/home/ykamel/anaconda3/lib/python3.8/site-packages/seaborn/distributions.py:283: UserWarning: Data must have variance to compute a kernel density estimate.\n",
      "  warnings.warn(msg, UserWarning)\n",
      "<ipython-input-4-95b862d4a093>:12: MatplotlibDeprecationWarning: Adding an axes using the same arguments as a previous axes currently reuses the earlier instance.  In a future version, a new instance will always be created and returned.  Meanwhile, this warning can be suppressed, and the future behavior ensured, by passing a unique label to each axes instance.\n",
      "  plt.subplot(3,3,9).set_visible(False)\n"
     ]
    },
    {
     "data": {
      "image/png": "[encoded data removed]",
      "text/plain": [
       "<Figure size 432x288 with 1 Axes>"
      ]
     },
     "metadata": {
      "needs_background": "light"
     },
     "output_type": "display_data"
    }
   ],
   "source": [
    "import seaborn as sns\n",
    "\n",
    "plt.subplots(3, 3, figsize=(15,15))\n",
    "\n",
    "for idx, col in enumerate (df.columns):\n",
    "    ax = plt.subplot(3, 3, idx + 1)\n",
    "    ax.yaxis.set_ticklabels([])\n",
    "    sns.distplot(df.loc[df.Outcome == 0][col], hist=False, axlabel=False, kde_kws={'linestyle':'-', 'color':'black', 'label':\"No Diabetes\"})\n",
    "    sns.distplot(df.loc[df.Outcome == 1][col], hist=False, axlabel=False, kde_kws={'linestyle':'--', 'color':'black', 'label':\"Diabetes\"})\n",
    "    ax.set_title(col)\n",
    "\n",
    "    plt.subplot(3,3,9).set_visible(False)\n",
    "    plt.show()"
   ]
  },
  {
   "cell_type": "markdown",
   "metadata": {},
   "source": [
    "Let's replqce the 0 values with NaN so we can use the fillna function"
   ]
  },
  {
   "cell_type": "code",
   "execution_count": 5,
   "metadata": {},
   "outputs": [],
   "source": [
    "import numpy as np\n",
    "\n",
    "df['Glucose'] = df['Glucose'].replace(0, np.nan)\n",
    "df['BloodPressure'] = df['BloodPressure'].replace(0, np.nan)\n",
    "df['SkinThickness'] = df['SkinThickness'].replace(0, np.nan)\n",
    "df['Insulin'] = df['Insulin'].replace(0, np.nan)\n",
    "df['BMI'] = df['BMI'].replace(0, np.nan)"
   ]
  },
  {
   "cell_type": "markdown",
   "metadata": {},
   "source": [
    "Now let's replace these null values with the mean of the column"
   ]
  },
  {
   "cell_type": "code",
   "execution_count": 6,
   "metadata": {},
   "outputs": [],
   "source": [
    "df['Glucose'] = df['Glucose'].fillna(df['Glucose'].mean())\n",
    "df['BloodPressure'] = df['BloodPressure'].fillna(df['BloodPressure'].mean())\n",
    "df['SkinThickness'] = df['SkinThickness'].fillna(df['SkinThickness'].mean())\n",
    "df['Insulin'] = df['Insulin'].fillna(df['Insulin'].mean())\n",
    "df['BMI'] = df['BMI'].fillna(df['BMI'].mean())"
   ]
  },
  {
   "cell_type": "code",
   "execution_count": 7,
   "metadata": {},
   "outputs": [],
   "source": [
    "from sklearn import preprocessing\n",
    "\n",
    "df_scaled = preprocessing.scale(df)\n",
    "df_scaled = pd.DataFrame(df_scaled, columns=df.columns)\n",
    "df_scaled['Outcome'] = df['Outcome']\n",
    "df = df_scaled"
   ]
  },
  {
   "cell_type": "code",
   "execution_count": 8,
   "metadata": {},
   "outputs": [],
   "source": [
    "from sklearn.model_selection import train_test_split\n",
    "\n",
    "\n",
    "X = df.loc[:, df.columns != 'Outcome']\n",
    "y = df.loc[:, 'Outcome']\n",
    "X_train, X_test, y_train, y_test = train_test_split(X, y, test_size=0.2, random_state=42)\n",
    "# X_train, X_val, y_train, y_val = train_test_split(X_train, y_train, test_size=0.2)"
   ]
  },
  {
   "cell_type": "code",
   "execution_count": 9,
   "metadata": {},
   "outputs": [],
   "source": [
    "from keras.models import Sequential\n",
    "\n",
    "model = Sequential()"
   ]
  },
  {
   "cell_type": "code",
   "execution_count": 10,
   "metadata": {},
   "outputs": [],
   "source": [
    "from keras.layers import Dense\n",
    "model.add(Dense(32, activation='relu', input_dim=8))\n",
    "model.add(Dense(16, activation='relu'))\n",
    "model.add(Dense(1, activation='sigmoid'))"
   ]
  },
  {
   "cell_type": "code",
   "execution_count": 11,
   "metadata": {},
   "outputs": [],
   "source": [
    "model.compile(optimizer='adam', loss='binary_crossentropy', metrics=['accuracy'])"
   ]
  },
  {
   "cell_type": "code",
   "execution_count": 12,
   "metadata": {},
   "outputs": [
    {
     "name": "stdout",
     "output_type": "stream",
     "text": [
      "Epoch 1/200\n",
      "20/20 [==============================] - 0s 2ms/step - loss: 0.6618 - accuracy: 0.6059\n",
      "Epoch 2/200\n",
      "20/20 [==============================] - 0s 2ms/step - loss: 0.6032 - accuracy: 0.7020\n",
      "Epoch 3/200\n",
      "20/20 [==============================] - 0s 2ms/step - loss: 0.5591 - accuracy: 0.7117\n",
      "Epoch 4/200\n",
      "20/20 [==============================] - 0s 2ms/step - loss: 0.5281 - accuracy: 0.7231\n",
      "Epoch 5/200\n",
      "20/20 [==============================] - 0s 3ms/step - loss: 0.5050 - accuracy: 0.7329\n",
      "Epoch 6/200\n",
      "20/20 [==============================] - 0s 2ms/step - loss: 0.4877 - accuracy: 0.7476\n",
      "Epoch 7/200\n",
      "20/20 [==============================] - 0s 2ms/step - loss: 0.4747 - accuracy: 0.7557\n",
      "Epoch 8/200\n",
      "20/20 [==============================] - 0s 2ms/step - loss: 0.4627 - accuracy: 0.7590\n",
      "Epoch 9/200\n",
      "20/20 [==============================] - 0s 2ms/step - loss: 0.4539 - accuracy: 0.7704\n",
      "Epoch 10/200\n",
      "20/20 [==============================] - 0s 2ms/step - loss: 0.4460 - accuracy: 0.7736\n",
      "Epoch 11/200\n",
      "20/20 [==============================] - 0s 3ms/step - loss: 0.4394 - accuracy: 0.7785\n",
      "Epoch 12/200\n",
      "20/20 [==============================] - 0s 2ms/step - loss: 0.4336 - accuracy: 0.7850\n",
      "Epoch 13/200\n",
      "20/20 [==============================] - 0s 2ms/step - loss: 0.4284 - accuracy: 0.7834\n",
      "Epoch 14/200\n",
      "20/20 [==============================] - 0s 2ms/step - loss: 0.4251 - accuracy: 0.7818\n",
      "Epoch 15/200\n",
      "20/20 [==============================] - 0s 2ms/step - loss: 0.4222 - accuracy: 0.7866\n",
      "Epoch 16/200\n",
      "20/20 [==============================] - 0s 2ms/step - loss: 0.4198 - accuracy: 0.7932\n",
      "Epoch 17/200\n",
      "20/20 [==============================] - 0s 2ms/step - loss: 0.4170 - accuracy: 0.7866\n",
      "Epoch 18/200\n",
      "20/20 [==============================] - 0s 2ms/step - loss: 0.4137 - accuracy: 0.7883\n",
      "Epoch 19/200\n",
      "20/20 [==============================] - 0s 2ms/step - loss: 0.4116 - accuracy: 0.7899\n",
      "Epoch 20/200\n",
      "20/20 [==============================] - 0s 2ms/step - loss: 0.4101 - accuracy: 0.7899\n",
      "Epoch 21/200\n",
      "20/20 [==============================] - 0s 2ms/step - loss: 0.4075 - accuracy: 0.7899\n",
      "Epoch 22/200\n",
      "20/20 [==============================] - 0s 2ms/step - loss: 0.4057 - accuracy: 0.7948\n",
      "Epoch 23/200\n",
      "20/20 [==============================] - 0s 2ms/step - loss: 0.4045 - accuracy: 0.7964\n",
      "Epoch 24/200\n",
      "20/20 [==============================] - 0s 3ms/step - loss: 0.4031 - accuracy: 0.8013\n",
      "Epoch 25/200\n",
      "20/20 [==============================] - 0s 2ms/step - loss: 0.4012 - accuracy: 0.7980\n",
      "Epoch 26/200\n",
      "20/20 [==============================] - 0s 3ms/step - loss: 0.4000 - accuracy: 0.7980\n",
      "Epoch 27/200\n",
      "20/20 [==============================] - 0s 2ms/step - loss: 0.3992 - accuracy: 0.8013\n",
      "Epoch 28/200\n",
      "20/20 [==============================] - 0s 3ms/step - loss: 0.3967 - accuracy: 0.8062\n",
      "Epoch 29/200\n",
      "20/20 [==============================] - 0s 1ms/step - loss: 0.3962 - accuracy: 0.8078\n",
      "Epoch 30/200\n",
      "20/20 [==============================] - 0s 1ms/step - loss: 0.3950 - accuracy: 0.8094\n",
      "Epoch 31/200\n",
      "20/20 [==============================] - 0s 2ms/step - loss: 0.3933 - accuracy: 0.8111\n",
      "Epoch 32/200\n",
      "20/20 [==============================] - 0s 3ms/step - loss: 0.3917 - accuracy: 0.8111\n",
      "Epoch 33/200\n",
      "20/20 [==============================] - 0s 2ms/step - loss: 0.3911 - accuracy: 0.8111\n",
      "Epoch 34/200\n",
      "20/20 [==============================] - 0s 3ms/step - loss: 0.3894 - accuracy: 0.8160\n",
      "Epoch 35/200\n",
      "20/20 [==============================] - 0s 2ms/step - loss: 0.3907 - accuracy: 0.8127\n",
      "Epoch 36/200\n",
      "20/20 [==============================] - 0s 2ms/step - loss: 0.3879 - accuracy: 0.8176\n",
      "Epoch 37/200\n",
      "20/20 [==============================] - 0s 2ms/step - loss: 0.3862 - accuracy: 0.8160\n",
      "Epoch 38/200\n",
      "20/20 [==============================] - 0s 2ms/step - loss: 0.3849 - accuracy: 0.8111\n",
      "Epoch 39/200\n",
      "20/20 [==============================] - 0s 2ms/step - loss: 0.3841 - accuracy: 0.8143\n",
      "Epoch 40/200\n",
      "20/20 [==============================] - 0s 2ms/step - loss: 0.3830 - accuracy: 0.8192\n",
      "Epoch 41/200\n",
      "20/20 [==============================] - 0s 2ms/step - loss: 0.3810 - accuracy: 0.8143\n",
      "Epoch 42/200\n",
      "20/20 [==============================] - 0s 3ms/step - loss: 0.3814 - accuracy: 0.8160\n",
      "Epoch 43/200\n",
      "20/20 [==============================] - 0s 3ms/step - loss: 0.3814 - accuracy: 0.8176\n",
      "Epoch 44/200\n",
      "20/20 [==============================] - 0s 2ms/step - loss: 0.3785 - accuracy: 0.8208\n",
      "Epoch 45/200\n",
      "20/20 [==============================] - 0s 2ms/step - loss: 0.3769 - accuracy: 0.8241\n",
      "Epoch 46/200\n",
      "20/20 [==============================] - 0s 2ms/step - loss: 0.3770 - accuracy: 0.8208\n",
      "Epoch 47/200\n",
      "20/20 [==============================] - 0s 2ms/step - loss: 0.3754 - accuracy: 0.8241\n",
      "Epoch 48/200\n",
      "20/20 [==============================] - 0s 3ms/step - loss: 0.3743 - accuracy: 0.8257\n",
      "Epoch 49/200\n",
      "20/20 [==============================] - 0s 2ms/step - loss: 0.3730 - accuracy: 0.8274\n",
      "Epoch 50/200\n",
      "20/20 [==============================] - 0s 3ms/step - loss: 0.3720 - accuracy: 0.8241\n",
      "Epoch 51/200\n",
      "20/20 [==============================] - 0s 3ms/step - loss: 0.3711 - accuracy: 0.8339\n",
      "Epoch 52/200\n",
      "20/20 [==============================] - 0s 2ms/step - loss: 0.3692 - accuracy: 0.8306\n",
      "Epoch 53/200\n",
      "20/20 [==============================] - 0s 2ms/step - loss: 0.3695 - accuracy: 0.8290\n",
      "Epoch 54/200\n",
      "20/20 [==============================] - 0s 3ms/step - loss: 0.3673 - accuracy: 0.8306\n",
      "Epoch 55/200\n",
      "20/20 [==============================] - 0s 2ms/step - loss: 0.3668 - accuracy: 0.8322\n",
      "Epoch 56/200\n",
      "20/20 [==============================] - 0s 1ms/step - loss: 0.3649 - accuracy: 0.8274\n",
      "Epoch 57/200\n",
      "20/20 [==============================] - 0s 1ms/step - loss: 0.3651 - accuracy: 0.8257\n",
      "Epoch 58/200\n",
      "20/20 [==============================] - 0s 2ms/step - loss: 0.3625 - accuracy: 0.8257\n",
      "Epoch 59/200\n",
      "20/20 [==============================] - 0s 1ms/step - loss: 0.3619 - accuracy: 0.8257\n",
      "Epoch 60/200\n",
      "20/20 [==============================] - 0s 1ms/step - loss: 0.3609 - accuracy: 0.8355\n",
      "Epoch 61/200\n",
      "20/20 [==============================] - 0s 1ms/step - loss: 0.3601 - accuracy: 0.8290\n",
      "Epoch 62/200\n",
      "20/20 [==============================] - 0s 1ms/step - loss: 0.3581 - accuracy: 0.8322\n",
      "Epoch 63/200\n",
      "20/20 [==============================] - 0s 2ms/step - loss: 0.3578 - accuracy: 0.8322\n",
      "Epoch 64/200\n",
      "20/20 [==============================] - 0s 2ms/step - loss: 0.3572 - accuracy: 0.8339\n",
      "Epoch 65/200\n",
      "20/20 [==============================] - 0s 2ms/step - loss: 0.3550 - accuracy: 0.8306\n",
      "Epoch 66/200\n",
      "20/20 [==============================] - 0s 1ms/step - loss: 0.3551 - accuracy: 0.8339\n",
      "Epoch 67/200\n",
      "20/20 [==============================] - 0s 2ms/step - loss: 0.3540 - accuracy: 0.8322\n",
      "Epoch 68/200\n",
      "20/20 [==============================] - 0s 1ms/step - loss: 0.3523 - accuracy: 0.8322\n",
      "Epoch 69/200\n",
      "20/20 [==============================] - 0s 1ms/step - loss: 0.3538 - accuracy: 0.8290\n",
      "Epoch 70/200\n",
      "20/20 [==============================] - 0s 1ms/step - loss: 0.3547 - accuracy: 0.8322\n",
      "Epoch 71/200\n",
      "20/20 [==============================] - 0s 1ms/step - loss: 0.3485 - accuracy: 0.8388\n",
      "Epoch 72/200\n",
      "20/20 [==============================] - 0s 1ms/step - loss: 0.3497 - accuracy: 0.8355\n",
      "Epoch 73/200\n",
      "20/20 [==============================] - 0s 1ms/step - loss: 0.3477 - accuracy: 0.8322\n",
      "Epoch 74/200\n",
      "20/20 [==============================] - 0s 2ms/step - loss: 0.3468 - accuracy: 0.8355\n",
      "Epoch 75/200\n",
      "20/20 [==============================] - 0s 1ms/step - loss: 0.3464 - accuracy: 0.8371\n",
      "Epoch 76/200\n",
      "20/20 [==============================] - 0s 1ms/step - loss: 0.3439 - accuracy: 0.8371\n",
      "Epoch 77/200\n",
      "20/20 [==============================] - 0s 1ms/step - loss: 0.3422 - accuracy: 0.8371\n",
      "Epoch 78/200\n",
      "20/20 [==============================] - 0s 1ms/step - loss: 0.3422 - accuracy: 0.8339\n",
      "Epoch 79/200\n",
      "20/20 [==============================] - 0s 2ms/step - loss: 0.3426 - accuracy: 0.8306\n",
      "Epoch 80/200\n",
      "20/20 [==============================] - 0s 1ms/step - loss: 0.3396 - accuracy: 0.8453\n",
      "Epoch 81/200\n",
      "20/20 [==============================] - 0s 1ms/step - loss: 0.3380 - accuracy: 0.8404\n",
      "Epoch 82/200\n",
      "20/20 [==============================] - 0s 2ms/step - loss: 0.3394 - accuracy: 0.8436\n",
      "Epoch 83/200\n"
     ]
    },
    {
     "name": "stdout",
     "output_type": "stream",
     "text": [
      "20/20 [==============================] - 0s 1ms/step - loss: 0.3364 - accuracy: 0.8388\n",
      "Epoch 84/200\n",
      "20/20 [==============================] - 0s 1ms/step - loss: 0.3357 - accuracy: 0.8420\n",
      "Epoch 85/200\n",
      "20/20 [==============================] - 0s 1ms/step - loss: 0.3338 - accuracy: 0.8371\n",
      "Epoch 86/200\n",
      "20/20 [==============================] - 0s 1ms/step - loss: 0.3334 - accuracy: 0.8322\n",
      "Epoch 87/200\n",
      "20/20 [==============================] - 0s 1ms/step - loss: 0.3333 - accuracy: 0.8436\n",
      "Epoch 88/200\n",
      "20/20 [==============================] - 0s 1ms/step - loss: 0.3314 - accuracy: 0.8420\n",
      "Epoch 89/200\n",
      "20/20 [==============================] - 0s 1ms/step - loss: 0.3298 - accuracy: 0.8485\n",
      "Epoch 90/200\n",
      "20/20 [==============================] - 0s 1ms/step - loss: 0.3284 - accuracy: 0.8502\n",
      "Epoch 91/200\n",
      "20/20 [==============================] - 0s 1ms/step - loss: 0.3272 - accuracy: 0.8453\n",
      "Epoch 92/200\n",
      "20/20 [==============================] - 0s 1ms/step - loss: 0.3316 - accuracy: 0.8469\n",
      "Epoch 93/200\n",
      "20/20 [==============================] - 0s 1ms/step - loss: 0.3256 - accuracy: 0.8534\n",
      "Epoch 94/200\n",
      "20/20 [==============================] - 0s 1ms/step - loss: 0.3251 - accuracy: 0.8485\n",
      "Epoch 95/200\n",
      "20/20 [==============================] - 0s 1ms/step - loss: 0.3232 - accuracy: 0.8469\n",
      "Epoch 96/200\n",
      "20/20 [==============================] - 0s 1ms/step - loss: 0.3221 - accuracy: 0.8485\n",
      "Epoch 97/200\n",
      "20/20 [==============================] - 0s 1ms/step - loss: 0.3212 - accuracy: 0.8469\n",
      "Epoch 98/200\n",
      "20/20 [==============================] - 0s 1ms/step - loss: 0.3203 - accuracy: 0.8453\n",
      "Epoch 99/200\n",
      "20/20 [==============================] - 0s 1ms/step - loss: 0.3188 - accuracy: 0.8436\n",
      "Epoch 100/200\n",
      "20/20 [==============================] - 0s 1ms/step - loss: 0.3206 - accuracy: 0.8420\n",
      "Epoch 101/200\n",
      "20/20 [==============================] - 0s 1ms/step - loss: 0.3179 - accuracy: 0.8550\n",
      "Epoch 102/200\n",
      "20/20 [==============================] - 0s 1ms/step - loss: 0.3177 - accuracy: 0.8502\n",
      "Epoch 103/200\n",
      "20/20 [==============================] - 0s 1ms/step - loss: 0.3157 - accuracy: 0.8534\n",
      "Epoch 104/200\n",
      "20/20 [==============================] - 0s 1ms/step - loss: 0.3139 - accuracy: 0.8518\n",
      "Epoch 105/200\n",
      "20/20 [==============================] - 0s 1ms/step - loss: 0.3133 - accuracy: 0.8567\n",
      "Epoch 106/200\n",
      "20/20 [==============================] - 0s 1ms/step - loss: 0.3141 - accuracy: 0.8534\n",
      "Epoch 107/200\n",
      "20/20 [==============================] - 0s 1ms/step - loss: 0.3108 - accuracy: 0.8599\n",
      "Epoch 108/200\n",
      "20/20 [==============================] - 0s 1ms/step - loss: 0.3097 - accuracy: 0.8567\n",
      "Epoch 109/200\n",
      "20/20 [==============================] - 0s 1ms/step - loss: 0.3083 - accuracy: 0.8567\n",
      "Epoch 110/200\n",
      "20/20 [==============================] - 0s 1ms/step - loss: 0.3106 - accuracy: 0.8567\n",
      "Epoch 111/200\n",
      "20/20 [==============================] - 0s 922us/step - loss: 0.3073 - accuracy: 0.8632\n",
      "Epoch 112/200\n",
      "20/20 [==============================] - 0s 1ms/step - loss: 0.3055 - accuracy: 0.8616\n",
      "Epoch 113/200\n",
      "20/20 [==============================] - 0s 1ms/step - loss: 0.3040 - accuracy: 0.8599\n",
      "Epoch 114/200\n",
      "20/20 [==============================] - 0s 1ms/step - loss: 0.3042 - accuracy: 0.8583\n",
      "Epoch 115/200\n",
      "20/20 [==============================] - 0s 1ms/step - loss: 0.3033 - accuracy: 0.8616\n",
      "Epoch 116/200\n",
      "20/20 [==============================] - 0s 1ms/step - loss: 0.3018 - accuracy: 0.8648\n",
      "Epoch 117/200\n",
      "20/20 [==============================] - 0s 1ms/step - loss: 0.3000 - accuracy: 0.8664\n",
      "Epoch 118/200\n",
      "20/20 [==============================] - 0s 1ms/step - loss: 0.2994 - accuracy: 0.8599\n",
      "Epoch 119/200\n",
      "20/20 [==============================] - 0s 1ms/step - loss: 0.2973 - accuracy: 0.8599\n",
      "Epoch 120/200\n",
      "20/20 [==============================] - 0s 1ms/step - loss: 0.2979 - accuracy: 0.8616\n",
      "Epoch 121/200\n",
      "20/20 [==============================] - 0s 1ms/step - loss: 0.2966 - accuracy: 0.8599\n",
      "Epoch 122/200\n",
      "20/20 [==============================] - 0s 1ms/step - loss: 0.2944 - accuracy: 0.8648\n",
      "Epoch 123/200\n",
      "20/20 [==============================] - 0s 1ms/step - loss: 0.2943 - accuracy: 0.8616\n",
      "Epoch 124/200\n",
      "20/20 [==============================] - 0s 1ms/step - loss: 0.2936 - accuracy: 0.8632\n",
      "Epoch 125/200\n",
      "20/20 [==============================] - 0s 1ms/step - loss: 0.2919 - accuracy: 0.8697\n",
      "Epoch 126/200\n",
      "20/20 [==============================] - 0s 1ms/step - loss: 0.2902 - accuracy: 0.8730\n",
      "Epoch 127/200\n",
      "20/20 [==============================] - 0s 1ms/step - loss: 0.2888 - accuracy: 0.8681\n",
      "Epoch 128/200\n",
      "20/20 [==============================] - 0s 1ms/step - loss: 0.2890 - accuracy: 0.8697\n",
      "Epoch 129/200\n",
      "20/20 [==============================] - 0s 1ms/step - loss: 0.2875 - accuracy: 0.8664\n",
      "Epoch 130/200\n",
      "20/20 [==============================] - 0s 2ms/step - loss: 0.2864 - accuracy: 0.8730\n",
      "Epoch 131/200\n",
      "20/20 [==============================] - 0s 1ms/step - loss: 0.2876 - accuracy: 0.8697\n",
      "Epoch 132/200\n",
      "20/20 [==============================] - 0s 1ms/step - loss: 0.2855 - accuracy: 0.8697\n",
      "Epoch 133/200\n",
      "20/20 [==============================] - 0s 1ms/step - loss: 0.2828 - accuracy: 0.8664\n",
      "Epoch 134/200\n",
      "20/20 [==============================] - 0s 975us/step - loss: 0.2824 - accuracy: 0.8697\n",
      "Epoch 135/200\n",
      "20/20 [==============================] - 0s 1ms/step - loss: 0.2808 - accuracy: 0.8762\n",
      "Epoch 136/200\n",
      "20/20 [==============================] - 0s 1ms/step - loss: 0.2802 - accuracy: 0.8713\n",
      "Epoch 137/200\n",
      "20/20 [==============================] - 0s 1ms/step - loss: 0.2788 - accuracy: 0.8713\n",
      "Epoch 138/200\n",
      "20/20 [==============================] - 0s 1ms/step - loss: 0.2769 - accuracy: 0.8746\n",
      "Epoch 139/200\n",
      "20/20 [==============================] - 0s 1ms/step - loss: 0.2778 - accuracy: 0.8697\n",
      "Epoch 140/200\n",
      "20/20 [==============================] - 0s 1ms/step - loss: 0.2767 - accuracy: 0.8779\n",
      "Epoch 141/200\n",
      "20/20 [==============================] - 0s 1ms/step - loss: 0.2755 - accuracy: 0.8746\n",
      "Epoch 142/200\n",
      "20/20 [==============================] - 0s 1ms/step - loss: 0.2738 - accuracy: 0.8713\n",
      "Epoch 143/200\n",
      "20/20 [==============================] - 0s 1ms/step - loss: 0.2756 - accuracy: 0.8713\n",
      "Epoch 144/200\n",
      "20/20 [==============================] - 0s 946us/step - loss: 0.2735 - accuracy: 0.8795\n",
      "Epoch 145/200\n",
      "20/20 [==============================] - 0s 1ms/step - loss: 0.2723 - accuracy: 0.8811\n",
      "Epoch 146/200\n",
      "20/20 [==============================] - 0s 1ms/step - loss: 0.2700 - accuracy: 0.8827\n",
      "Epoch 147/200\n",
      "20/20 [==============================] - 0s 1ms/step - loss: 0.2686 - accuracy: 0.8811\n",
      "Epoch 148/200\n",
      "20/20 [==============================] - 0s 1ms/step - loss: 0.2676 - accuracy: 0.8762\n",
      "Epoch 149/200\n",
      "20/20 [==============================] - 0s 895us/step - loss: 0.2664 - accuracy: 0.8795\n",
      "Epoch 150/200\n",
      "20/20 [==============================] - 0s 1ms/step - loss: 0.2664 - accuracy: 0.8860\n",
      "Epoch 151/200\n",
      "20/20 [==============================] - 0s 1ms/step - loss: 0.2667 - accuracy: 0.8827\n",
      "Epoch 152/200\n",
      "20/20 [==============================] - 0s 1ms/step - loss: 0.2625 - accuracy: 0.8827\n",
      "Epoch 153/200\n",
      "20/20 [==============================] - 0s 1ms/step - loss: 0.2625 - accuracy: 0.8827\n",
      "Epoch 154/200\n",
      "20/20 [==============================] - 0s 1ms/step - loss: 0.2643 - accuracy: 0.8844\n",
      "Epoch 155/200\n",
      "20/20 [==============================] - 0s 1ms/step - loss: 0.2596 - accuracy: 0.8876\n",
      "Epoch 156/200\n",
      "20/20 [==============================] - 0s 1ms/step - loss: 0.2586 - accuracy: 0.8876\n",
      "Epoch 157/200\n",
      "20/20 [==============================] - 0s 1ms/step - loss: 0.2575 - accuracy: 0.8893\n",
      "Epoch 158/200\n",
      "20/20 [==============================] - 0s 1ms/step - loss: 0.2577 - accuracy: 0.8860\n",
      "Epoch 159/200\n",
      "20/20 [==============================] - 0s 1ms/step - loss: 0.2561 - accuracy: 0.8876\n",
      "Epoch 160/200\n",
      "20/20 [==============================] - 0s 1ms/step - loss: 0.2536 - accuracy: 0.8893\n",
      "Epoch 161/200\n",
      "20/20 [==============================] - 0s 974us/step - loss: 0.2527 - accuracy: 0.8941\n",
      "Epoch 162/200\n",
      "20/20 [==============================] - 0s 1ms/step - loss: 0.2521 - accuracy: 0.8958\n",
      "Epoch 163/200\n",
      "20/20 [==============================] - 0s 1ms/step - loss: 0.2518 - accuracy: 0.8876\n",
      "Epoch 164/200\n"
     ]
    },
    {
     "name": "stdout",
     "output_type": "stream",
     "text": [
      "20/20 [==============================] - 0s 1ms/step - loss: 0.2520 - accuracy: 0.8941\n",
      "Epoch 165/200\n",
      "20/20 [==============================] - 0s 1ms/step - loss: 0.2506 - accuracy: 0.8909\n",
      "Epoch 166/200\n",
      "20/20 [==============================] - 0s 1ms/step - loss: 0.2500 - accuracy: 0.8958\n",
      "Epoch 167/200\n",
      "20/20 [==============================] - 0s 2ms/step - loss: 0.2470 - accuracy: 0.8909\n",
      "Epoch 168/200\n",
      "20/20 [==============================] - 0s 1ms/step - loss: 0.2463 - accuracy: 0.8925\n",
      "Epoch 169/200\n",
      "20/20 [==============================] - 0s 1ms/step - loss: 0.2456 - accuracy: 0.8860\n",
      "Epoch 170/200\n",
      "20/20 [==============================] - 0s 1ms/step - loss: 0.2448 - accuracy: 0.8958\n",
      "Epoch 171/200\n",
      "20/20 [==============================] - 0s 1ms/step - loss: 0.2472 - accuracy: 0.8860\n",
      "Epoch 172/200\n",
      "20/20 [==============================] - 0s 980us/step - loss: 0.2460 - accuracy: 0.8925\n",
      "Epoch 173/200\n",
      "20/20 [==============================] - 0s 1ms/step - loss: 0.2409 - accuracy: 0.8958\n",
      "Epoch 174/200\n",
      "20/20 [==============================] - 0s 1ms/step - loss: 0.2419 - accuracy: 0.9007\n",
      "Epoch 175/200\n",
      "20/20 [==============================] - 0s 1ms/step - loss: 0.2399 - accuracy: 0.8974\n",
      "Epoch 176/200\n",
      "20/20 [==============================] - 0s 1ms/step - loss: 0.2396 - accuracy: 0.9007\n",
      "Epoch 177/200\n",
      "20/20 [==============================] - 0s 970us/step - loss: 0.2370 - accuracy: 0.9007\n",
      "Epoch 178/200\n",
      "20/20 [==============================] - 0s 1ms/step - loss: 0.2378 - accuracy: 0.8990\n",
      "Epoch 179/200\n",
      "20/20 [==============================] - 0s 1ms/step - loss: 0.2371 - accuracy: 0.9007\n",
      "Epoch 180/200\n",
      "20/20 [==============================] - 0s 1ms/step - loss: 0.2342 - accuracy: 0.9023\n",
      "Epoch 181/200\n",
      "20/20 [==============================] - 0s 1ms/step - loss: 0.2330 - accuracy: 0.9039\n",
      "Epoch 182/200\n",
      "20/20 [==============================] - 0s 1ms/step - loss: 0.2355 - accuracy: 0.9007\n",
      "Epoch 183/200\n",
      "20/20 [==============================] - 0s 1ms/step - loss: 0.2319 - accuracy: 0.8990\n",
      "Epoch 184/200\n",
      "20/20 [==============================] - 0s 1ms/step - loss: 0.2312 - accuracy: 0.8990\n",
      "Epoch 185/200\n",
      "20/20 [==============================] - 0s 1ms/step - loss: 0.2303 - accuracy: 0.8990\n",
      "Epoch 186/200\n",
      "20/20 [==============================] - 0s 1ms/step - loss: 0.2294 - accuracy: 0.9088\n",
      "Epoch 187/200\n",
      "20/20 [==============================] - 0s 1ms/step - loss: 0.2281 - accuracy: 0.9088\n",
      "Epoch 188/200\n",
      "20/20 [==============================] - 0s 1ms/step - loss: 0.2284 - accuracy: 0.8958\n",
      "Epoch 189/200\n",
      "20/20 [==============================] - 0s 1ms/step - loss: 0.2279 - accuracy: 0.9072\n",
      "Epoch 190/200\n",
      "20/20 [==============================] - 0s 1ms/step - loss: 0.2251 - accuracy: 0.8990\n",
      "Epoch 191/200\n",
      "20/20 [==============================] - 0s 1ms/step - loss: 0.2254 - accuracy: 0.9023\n",
      "Epoch 192/200\n",
      "20/20 [==============================] - 0s 1ms/step - loss: 0.2250 - accuracy: 0.8941\n",
      "Epoch 193/200\n",
      "20/20 [==============================] - 0s 1ms/step - loss: 0.2230 - accuracy: 0.9072\n",
      "Epoch 194/200\n",
      "20/20 [==============================] - 0s 1ms/step - loss: 0.2238 - accuracy: 0.9055\n",
      "Epoch 195/200\n",
      "20/20 [==============================] - 0s 1ms/step - loss: 0.2226 - accuracy: 0.9007\n",
      "Epoch 196/200\n",
      "20/20 [==============================] - 0s 1ms/step - loss: 0.2196 - accuracy: 0.9055\n",
      "Epoch 197/200\n",
      "20/20 [==============================] - 0s 1ms/step - loss: 0.2194 - accuracy: 0.9055\n",
      "Epoch 198/200\n",
      "20/20 [==============================] - 0s 1ms/step - loss: 0.2197 - accuracy: 0.9072\n",
      "Epoch 199/200\n",
      "20/20 [==============================] - 0s 1ms/step - loss: 0.2188 - accuracy: 0.9023\n",
      "Epoch 200/200\n",
      "20/20 [==============================] - 0s 1ms/step - loss: 0.2161 - accuracy: 0.9055\n"
     ]
    },
    {
     "data": {
      "text/plain": [
       "<tensorflow.python.keras.callbacks.History at 0x7f5c185ff4f0>"
      ]
     },
     "execution_count": 12,
     "metadata": {},
     "output_type": "execute_result"
    }
   ],
   "source": [
    "model.fit(X_train, y_train, epochs=200)"
   ]
  },
  {
   "cell_type": "code",
   "execution_count": 13,
   "metadata": {},
   "outputs": [
    {
     "name": "stdout",
     "output_type": "stream",
     "text": [
      "Training Accuracy: 91.21%\n",
      "\n",
      "Testing Accuracy: 72.08%\n",
      "\n"
     ]
    }
   ],
   "source": [
    "scores = model.evaluate(X_train, y_train, verbose=False)\n",
    "print(\"Training Accuracy: %.2f%%\\n\" % (scores[1]*100))\n",
    "scores = model.evaluate(X_test, y_test, verbose=False)\n",
    "print(\"Testing Accuracy: %.2f%%\\n\" % (scores[1]*100))"
   ]
  },
  {
   "cell_type": "code",
   "execution_count": 14,
   "metadata": {},
   "outputs": [
    {
     "name": "stdout",
     "output_type": "stream",
     "text": [
      "WARNING:tensorflow:From <ipython-input-14-b92e3e0c5352>:2: Sequential.predict_classes (from tensorflow.python.keras.engine.sequential) is deprecated and will be removed after 2021-01-01.\n",
      "Instructions for updating:\n",
      "Please use instead:* `np.argmax(model.predict(x), axis=-1)`,   if your model does multi-class classification   (e.g. if it uses a `softmax` last-layer activation).* `(model.predict(x) > 0.5).astype(\"int32\")`,   if your model does binary classification   (e.g. if it uses a `sigmoid` last-layer activation).\n"
     ]
    },
    {
     "data": {
      "image/png": "[encoded data removed]",
      "text/plain": [
       "<Figure size 432x288 with 1 Axes>"
      ]
     },
     "metadata": {
      "needs_background": "light"
     },
     "output_type": "display_data"
    },
    {
     "data": {
      "text/plain": [
       "<Figure size 432x288 with 0 Axes>"
      ]
     },
     "metadata": {},
     "output_type": "display_data"
    }
   ],
   "source": [
    "from sklearn.metrics import confusion_matrix\n",
    "y_test_pred = model.predict_classes(X_test)\n",
    "c_matrix = confusion_matrix(y_test, y_test_pred)\n",
    "ax = sns.heatmap(c_matrix, annot=True, xticklabels=['No Diabetes', 'Diabetes'], yticklabels=['No Diabetes', 'Diabetes'], cbar=False, cmap='Blues')\n",
    "ax.set_xlabel(\"Prediction\")\n",
    "ax.set_ylabel(\"Actual\")\n",
    "plt.show()\n",
    "plt.clf()"
   ]
  },
  {
   "cell_type": "code",
   "execution_count": 15,
   "metadata": {},
   "outputs": [
    {
     "data": {
      "image/png": "[encoded data removed]",
      "text/plain": [
       "<Figure size 432x288 with 1 Axes>"
      ]
     },
     "metadata": {
      "needs_background": "light"
     },
     "output_type": "display_data"
    },
    {
     "data": {
      "text/plain": [
       "<Figure size 432x288 with 0 Axes>"
      ]
     },
     "metadata": {},
     "output_type": "display_data"
    }
   ],
   "source": [
    "from sklearn.metrics import roc_curve\n",
    "y_test_pred_probs = model.predict(X_test)\n",
    "FPR, TPR, _ = roc_curve(y_test, y_test_pred_probs)\n",
    "plt.plot(FPR, TPR)\n",
    "plt.plot([0,1],[0,1],'--', color='black') #diagonal line\n",
    "plt.title('ROC Curve')\n",
    "plt.xlabel('False Positive Rate')\n",
    "plt.ylabel('True Positive Rate')\n",
    "plt.show()\n",
    "plt.clf()"
   ]
  },
  {
   "cell_type": "code",
   "execution_count": null,
   "metadata": {},
   "outputs": [],
   "source": []
  }
 ],
 "metadata": {
  "kernelspec": {
   "display_name": "Python 3",
   "language": "python",
   "name": "python3"
  },
  "language_info": {
   "codemirror_mode": {
    "name": "ipython",
    "version": 3
   },
   "file_extension": ".py",
   "mimetype": "text/x-python",
   "name": "python",
   "nbconvert_exporter": "python",
   "pygments_lexer": "ipython3",
   "version": "3.8.3"
  }
 },
 "nbformat": 4,
 "nbformat_minor": 4
}
